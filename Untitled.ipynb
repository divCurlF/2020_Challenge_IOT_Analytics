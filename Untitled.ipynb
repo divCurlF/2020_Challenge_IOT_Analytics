{
 "cells": [
  {
   "cell_type": "code",
   "execution_count": null,
   "metadata": {},
   "outputs": [],
   "source": [
    "from hd5_utils import hd5_to_df\n",
    "import matplotlib.pyplot as plt\n",
    "import os\n",
    "import numpy as np\n",
    "\n",
    "directory = \"competitionfiles\"\n",
    "filename = \"COOLCAT_20100707_111600_48_20100707_111600_483.hdf\"\n",
    "df = hd5_to_df(filename, directory)"
   ]
  },
  {
   "cell_type": "code",
   "execution_count": null,
   "metadata": {},
   "outputs": [],
   "source": [
    "df2 = df[df - df.mean() < df.std()]\n",
    "print(df.head(10))"
   ]
  },
  {
   "cell_type": "code",
   "execution_count": null,
   "metadata": {},
   "outputs": [],
   "source": [
    "print(df.mean())\n",
    "df = hd5_to_df(filename, directory)\n",
    "df_mod = np.array(df['ch_93'])\n",
    "df_2 = df_mod - df_mod.mean()\n",
    "df_adjusted = np.abs(df_2) < df_2.std()\n",
    "plt.plot(df_2[df_adjusted])\n",
    "plt.plot(df_2)"
   ]
  },
  {
   "cell_type": "code",
   "execution_count": null,
   "metadata": {},
   "outputs": [],
   "source": []
  },
  {
   "cell_type": "code",
   "execution_count": null,
   "metadata": {},
   "outputs": [],
   "source": [
    "%timeit"
   ]
  },
  {
   "cell_type": "code",
   "execution_count": null,
   "metadata": {},
   "outputs": [],
   "source": [
    "from hd5_utils import hd5_to_df\n",
    "\n",
    "directory = \"competitionfiles\"\n",
    "filename = \"COOLCAT_20110830_114330_65_20110830_114330_652.hdf\""
   ]
  },
  {
   "cell_type": "code",
   "execution_count": null,
   "metadata": {},
   "outputs": [],
   "source": [
    "df = hd5_to_df(filename, directory)"
   ]
  },
  {
   "cell_type": "code",
   "execution_count": null,
   "metadata": {},
   "outputs": [],
   "source": [
    "from hd5_utils import get_channel_data\n",
    "directory = \"competitionfiles\"\n",
    "filename = \"COOLCAT_20100524_094449_44_20100524_094449_446.hdf\"\n",
    "get_channel_data('ch_1', filename, directory)"
   ]
  },
  {
   "cell_type": "code",
   "execution_count": 1,
   "metadata": {},
   "outputs": [
    {
     "name": "stdout",
     "output_type": "stream",
     "text": [
      "49754879\n",
      "49754879\n",
      "49754879\n",
      "49754879\n",
      "49754879\n",
      "49754879\n",
      "49754879\n",
      "49754879\n",
      "10.2 s ± 21.4 ms per loop (mean ± std. dev. of 7 runs, 1 loop each)\n"
     ]
    }
   ],
   "source": [
    "%%timeit\n",
    "\n",
    "from hd5_utils import get_all_channel_data\n",
    "directory = \"competitionfiles\"\n",
    "get_all_channel_data('ch_101', directory)"
   ]
  },
  {
   "cell_type": "code",
   "execution_count": null,
   "metadata": {},
   "outputs": [],
   "source": []
  }
 ],
 "metadata": {
  "kernelspec": {
   "display_name": "Python 3",
   "language": "python",
   "name": "python3"
  },
  "language_info": {
   "codemirror_mode": {
    "name": "ipython",
    "version": 3
   },
   "file_extension": ".py",
   "mimetype": "text/x-python",
   "name": "python",
   "nbconvert_exporter": "python",
   "pygments_lexer": "ipython3",
   "version": "3.8.1"
  }
 },
 "nbformat": 4,
 "nbformat_minor": 2
}
