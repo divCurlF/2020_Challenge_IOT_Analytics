{
 "cells": [
  {
   "cell_type": "code",
   "execution_count": null,
   "metadata": {},
   "outputs": [],
   "source": [
    "from hd5_utils import hd5_to_df\n",
    "import matplotlib.pyplot as plt\n",
    "import os\n",
    "import numpy as np\n",
    "\n",
    "directory = \"competitionfiles\"\n",
    "filename = \"COOLCAT_20100707_111600_48_20100707_111600_483.hdf\"\n",
    "df = hd5_to_df(filename, directory)"
   ]
  },
  {
   "cell_type": "code",
   "execution_count": 45,
   "metadata": {},
   "outputs": [
    {
     "name": "stdout",
     "output_type": "stream",
     "text": [
      "     ch_1  ch_10  ch_100  ch_101  ch_102  ch_103  ch_104  ch_105  ch_106  \\\n",
      "0     0.0    0.0     0.0     0.0     0.0     0.0     0.0     0.0     0.0   \n",
      "1     0.0    0.0     0.0     0.0     0.0     0.0     0.0     0.0     0.0   \n",
      "2     0.0    0.0     0.0     0.0     0.0     0.0     0.0     0.0     0.0   \n",
      "3     0.0    0.0     0.0     0.0     0.0     0.0     0.0     0.0     0.0   \n",
      "4     0.0    0.0     0.0     0.0     0.0     0.0     0.0     0.0     0.0   \n",
      "5     0.0    0.0     0.0     0.0     0.0     0.0     0.0     0.0     0.0   \n",
      "6     0.0    0.0     0.0     0.0     0.0     0.0     0.0     0.0     0.0   \n",
      "7     0.0    0.0     0.0     0.0     0.0     0.0     0.0     0.0     0.0   \n",
      "8  4152.0    0.0     0.0   128.0     0.0     0.0     0.0     0.0     0.0   \n",
      "9  4152.0    0.0  1024.0   128.0     0.0     0.0     0.0     0.0     0.0   \n",
      "\n",
      "   ch_107  ...   ch_90   ch_91  ch_92    ch_93  ch_94    ch_95  ch_96   ch_97  \\\n",
      "0     0.0  ...     0.0     0.0    0.0   0.0000    0.0      0.0    0.0     0.0   \n",
      "1     0.0  ...     0.0     0.0    0.0   0.0000    0.0      0.0    0.0     0.0   \n",
      "2     0.0  ...     0.0     0.0    0.0   0.0000    0.0      0.0    0.0     0.0   \n",
      "3     0.0  ...     0.0     0.0    0.0   0.0000    0.0      0.0    0.0     0.0   \n",
      "4     0.0  ...     0.0     0.0    0.0   0.0000    0.0      0.0    0.0     0.0   \n",
      "5     0.0  ...     0.0     0.0    0.0   0.0000    0.0      0.0    0.0     0.0   \n",
      "6     0.0  ...     0.0     0.0    0.0   0.0000    0.0      0.0    0.0     0.0   \n",
      "7     0.0  ...     0.0     0.0    0.0   0.0000    0.0      0.0    0.0     0.0   \n",
      "8     0.0  ...     0.0     0.0    0.0  27.4258    0.0      0.0    0.0     0.0   \n",
      "9     0.0  ... -4032.0 -1568.0    0.0  27.4258  384.0  34884.0    0.0  2560.0   \n",
      "\n",
      "     ch_98  ch_99  \n",
      "0      0.0    0.0  \n",
      "1      0.0    0.0  \n",
      "2      0.0    0.0  \n",
      "3      0.0    0.0  \n",
      "4      0.0    0.0  \n",
      "5      0.0    0.0  \n",
      "6      0.0    0.0  \n",
      "7      0.0    0.0  \n",
      "8      0.0    0.0  \n",
      "9  89600.0    0.0  \n",
      "\n",
      "[10 rows x 152 columns]\n"
     ]
    }
   ],
   "source": [
    "df2 = df[df - df.mean() < df.std()]\n",
    "print(df.head(10))"
   ]
  },
  {
   "cell_type": "code",
   "execution_count": 48,
   "metadata": {},
   "outputs": [
    {
     "name": "stdout",
     "output_type": "stream",
     "text": [
      "ch_1      4.208276e+03\n",
      "ch_10     1.811523e+02\n",
      "ch_100    2.311502e+02\n",
      "ch_101    1.279176e+02\n",
      "ch_102    6.810229e+08\n",
      "              ...     \n",
      "ch_95     3.522004e+04\n",
      "ch_96     2.969351e+04\n",
      "ch_97     1.495692e+03\n",
      "ch_98     2.012008e+05\n",
      "ch_99     7.496326e+03\n",
      "Length: 152, dtype: float64\n"
     ]
    },
    {
     "data": {
      "text/plain": [
       "[<matplotlib.lines.Line2D at 0x7ff75958dc10>]"
      ]
     },
     "execution_count": 48,
     "metadata": {},
     "output_type": "execute_result"
    },
    {
     "data": {
      "image/png": "[encoded data removed]",
      "text/plain": [
       "<Figure size 432x288 with 1 Axes>"
      ]
     },
     "metadata": {
      "needs_background": "light"
     },
     "output_type": "display_data"
    }
   ],
   "source": [
    "print(df.mean())\n",
    "df = hd5_to_df(filename, directory)\n",
    "df_mod = np.array(df['ch_93'])\n",
    "df_2 = df_mod - df_mod.mean()\n",
    "df_adjusted = np.abs(df_2) < df_2.std()\n",
    "plt.plot(df_2[df_adjusted])\n",
    "plt.plot(df_2)"
   ]
  },
  {
   "cell_type": "code",
   "execution_count": 16,
   "metadata": {},
   "outputs": [],
   "source": []
  },
  {
   "cell_type": "code",
   "execution_count": 5,
   "metadata": {},
   "outputs": [],
   "source": [
    "%timeit"
   ]
  },
  {
   "cell_type": "code",
   "execution_count": 6,
   "metadata": {},
   "outputs": [],
   "source": [
    "from hd5_utils import hd5_to_df\n",
    "\n",
    "directory = \"competitionfiles\"\n",
    "filename = \"COOLCAT_20110830_114330_65_20110830_114330_652.hdf\""
   ]
  },
  {
   "cell_type": "code",
   "execution_count": 11,
   "metadata": {},
   "outputs": [],
   "source": [
    "df = hd5_to_df(filename, directory)"
   ]
  },
  {
   "cell_type": "code",
   "execution_count": 1,
   "metadata": {},
   "outputs": [
    {
     "data": {
      "text/plain": [
       "array([   0.,    0.,    0., ..., 4096., 4096., 4096.], dtype=float32)"
      ]
     },
     "execution_count": 1,
     "metadata": {},
     "output_type": "execute_result"
    }
   ],
   "source": [
    "from hd5_utils import get_channel_data\n",
    "directory = \"competitionfiles\"\n",
    "filename = \"COOLCAT_20100524_094449_44_20100524_094449_446.hdf\"\n",
    "get_channel_data('ch_1', filename, directory)"
   ]
  },
  {
   "cell_type": "code",
   "execution_count": 1,
   "metadata": {},
   "outputs": [
    {
     "ename": "TypeError",
     "evalue": "get_all_channel_data() missing 3 required positional arguments: 'ch_name', 'filename', and 'directory'",
     "output_type": "error",
     "traceback": [
      "\u001b[0;31m---------------------------------------------------------------------------\u001b[0m",
      "\u001b[0;31mTypeError\u001b[0m                                 Traceback (most recent call last)",
      "\u001b[0;32m<ipython-input-1-9bc77611b140>\u001b[0m in \u001b[0;36m<module>\u001b[0;34m\u001b[0m\n\u001b[1;32m      1\u001b[0m \u001b[0;32mfrom\u001b[0m \u001b[0mhd5_utils\u001b[0m \u001b[0;32mimport\u001b[0m \u001b[0mget_all_channel_data\u001b[0m\u001b[0;34m\u001b[0m\u001b[0;34m\u001b[0m\u001b[0m\n\u001b[1;32m      2\u001b[0m \u001b[0;34m\u001b[0m\u001b[0m\n\u001b[0;32m----> 3\u001b[0;31m \u001b[0mget_all_channel_data\u001b[0m\u001b[0;34m(\u001b[0m\u001b[0;34m)\u001b[0m\u001b[0;34m\u001b[0m\u001b[0;34m\u001b[0m\u001b[0m\n\u001b[0m",
      "\u001b[0;31mTypeError\u001b[0m: get_all_channel_data() missing 3 required positional arguments: 'ch_name', 'filename', and 'directory'"
     ]
    }
   ],
   "source": [
    "from hd5_utils import get_all_channel_data\n",
    "\n",
    "get_all_channel_data('ch_1', directory)"
   ]
  },
  {
   "cell_type": "code",
   "execution_count": null,
   "metadata": {},
   "outputs": [],
   "source": []
  }
 ],
 "metadata": {
  "kernelspec": {
   "display_name": "Python 3",
   "language": "python",
   "name": "python3"
  },
  "language_info": {
   "codemirror_mode": {
    "name": "ipython",
    "version": 3
   },
   "file_extension": ".py",
   "mimetype": "text/x-python",
   "name": "python",
   "nbconvert_exporter": "python",
   "pygments_lexer": "ipython3",
   "version": "3.8.1"
  }
 },
 "nbformat": 4,
 "nbformat_minor": 2
}
